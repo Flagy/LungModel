{
 "cells": [
  {
   "cell_type": "code",
   "execution_count": null,
   "metadata": {},
   "outputs": [],
   "source": [
    "from math import sqrt, pi\n",
    "from scipy.integrate import odeint\n",
    "from scipy.special import softmax\n",
    "import numpy as np\n",
    "import matplotlib.pyplot as plt"
   ]
  },
  {
   "cell_type": "code",
   "execution_count": null,
   "metadata": {},
   "outputs": [],
   "source": [
    "class EasyLung(object):\n",
    "\n",
    "    def __init__(self, R, C):\n",
    "        (self.R1, self.R2) = R\n",
    "        (self.C1, self.C2) = C\n",
    "    \n",
    "    def setModelParams(self, t, inputSignal, initConds):\n",
    "        self.t = t\n",
    "        self.inputSignal = inputSignal\n",
    "        self.derivInputSignal = np.gradient(self.inputSignal, self.t)\n",
    "        self.initConds = initConds # Initial conditions of the charges\n",
    "\n",
    "    def linearModel(self, z, t, s, ds):\n",
    "        Req = self.R1 + self.R2\n",
    "        Ceq = 1/self.C1 + 1/self.C2\n",
    "        ds1dt = -Ceq/Req*z[0] + (self.R2/Req)*ds + s/(Req*self.C2)\n",
    "        ds2dt = -Ceq/Req*z[1] + (self.R1/Req)*ds + s/(Req*self.C1)\n",
    "        dsdt = [ds1dt, ds2dt]\n",
    "        return dsdt\n",
    "\n",
    "    def notLinearResistanceModel(self, z, t, s, ds):\n",
    "        R1 = self.R1 + np.tanh(self.R1*s**2)\n",
    "        R2 = self.R2*np.cos(self.R2*s**2)\n",
    "        Req = R1 + R2\n",
    "        Ceq = 1/self.C1 + 1/self.C2\n",
    "        ds1dt = -Ceq/Req*z[0] + (R2/Req)*ds + s/(Req*self.C2)\n",
    "        ds2dt = -Ceq/Req*z[1] + (R1/Req)*ds + s/(Req*self.C1)\n",
    "        dsdt = [ds1dt, ds2dt]\n",
    "        return dsdt\n",
    "\n",
    "    def SolveModel(self, model):\n",
    "        z0 = self.initConds\n",
    "        sol1 = np.zeros_like(self.t)\n",
    "        sol2 = np.zeros_like(self.t)\n",
    "        sol1[0] = z0[0]\n",
    "        sol2[0] = z0[1]\n",
    "        for i in range(1, len(self.t)):\n",
    "            # time span necessary for derivative inside odeint\n",
    "            tspan = [self.t[i-1], self.t[i]]\n",
    "            sol = odeint(model, z0, tspan, args=(self.inputSignal[i], self.derivInputSignal[i]))\n",
    "            sol1[i] = sol[1][0]\n",
    "            sol2[i] = sol[1][1]\n",
    "            z0 = sol[1]\n",
    "        return (sol1, sol2)"
   ]
  }
 ],
 "metadata": {
  "kernelspec": {
   "display_name": "Python 3",
   "language": "python",
   "name": "python3"
  },
  "language_info": {
   "codemirror_mode": {
    "name": "ipython",
    "version": 3
   },
   "file_extension": ".py",
   "mimetype": "text/x-python",
   "name": "python",
   "nbconvert_exporter": "python",
   "pygments_lexer": "ipython3",
   "version": "3.6.9"
  }
 },
 "nbformat": 4,
 "nbformat_minor": 2
}

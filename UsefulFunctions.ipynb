{
 "cells": [
  {
   "cell_type": "code",
   "execution_count": null,
   "metadata": {},
   "outputs": [],
   "source": [
    "import numpy as np\n",
    "import matplotlib.pyplot as plt\n",
    "from math import pi"
   ]
  },
  {
   "cell_type": "code",
   "execution_count": null,
   "metadata": {},
   "outputs": [],
   "source": [
    "def solveAndPlot(f, t, lung, func):\n",
    "    \n",
    "    # Pay attention because for now the input is here and the setting of parameters \n",
    "    # and initial conditions is here as well\n",
    "    \n",
    "    ########## Volume partitions ##########\n",
    "    Qg = 5*np.sin(2*pi*f*t)\n",
    "    lung.setModelParams(t, Qg, initConds=(0, 0))\n",
    "    Q = lung.SolveModel(func)\n",
    "    plt.subplot(211)\n",
    "    plt.plot(t, Qg, 'k', label=r'$Q_0(t)$')\n",
    "    plt.plot(t,Q[0],'r-',label=r'$Q_1(t)$')\n",
    "    plt.plot(t,Q[1],'b-',label=r'$Q_2(t)$')\n",
    "    plt.plot(t,Q[0] + Q[1],'g--',label=r'$Q_1 + Q_2$')\n",
    "    plt.ylabel(r\"$Q(t)$\", rotation=0)\n",
    "    plt.xlabel('time [s]')\n",
    "    plt.legend(loc='best')\n",
    "    plt.grid(linestyle='dashed', linewidth=0.5)\n",
    "    plt.title(r\"Volume partition\")\n",
    "    \n",
    "    ########## Flow partitions ###########\n",
    "    Ig = np.gradient(Qg, t)\n",
    "    derivInput = np.gradient(Ig, t)\n",
    "    initConds = tuple(Ig[0] * np.array((lung.R2/(lung.R1 + lung.R2), lung.R1/(lung.R1 + lung.R2))))\n",
    "    lung.setModelParams(t, Ig, initConds)\n",
    "    I = lung.SolveModel(func)\n",
    "    plt.subplot(212)\n",
    "    plt.plot(t, Ig, 'k', label=r'$I_0(t)$')\n",
    "    plt.plot(t,I[0],'r-',label=r'$I_1(t)$')\n",
    "    plt.plot(t,I[1],'b-',label=r'$I_2(t)$')\n",
    "    plt.plot(t,I[0] + I[1],'g--',label=r'$I_1 + I_2$')\n",
    "    plt.ylabel(r\"$I(t)$\", rotation=0)\n",
    "    plt.xlabel('time [s]')\n",
    "    plt.legend(loc='best')\n",
    "    plt.grid(linestyle='dashed', linewidth=0.5)\n",
    "    plt.title(r\"Flow partition\")\n",
    "    plt.suptitle(r\"$R_1: %g, R_2: %g, C_1: %g, C_2: %g$\" % (lung.R1, lung.R2, lung.C1, lung.C2), fontsize=12)\n",
    "    return plt"
   ]
  }
 ],
 "metadata": {
  "kernelspec": {
   "display_name": "Python 3",
   "language": "python",
   "name": "python3"
  },
  "language_info": {
   "codemirror_mode": {
    "name": "ipython",
    "version": 3
   },
   "file_extension": ".py",
   "mimetype": "text/x-python",
   "name": "python",
   "nbconvert_exporter": "python",
   "pygments_lexer": "ipython3",
   "version": "3.6.9"
  }
 },
 "nbformat": 4,
 "nbformat_minor": 2
}
